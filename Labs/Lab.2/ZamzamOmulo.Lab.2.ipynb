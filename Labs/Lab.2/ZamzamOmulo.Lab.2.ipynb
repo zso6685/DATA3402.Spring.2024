{
 "cells": [
  {
   "cell_type": "markdown",
   "metadata": {},
   "source": [
    "## Lab 2- Tic Tac Toe\n",
    "\n",
    "In this lab your will build a n x n Tic Tac Toe game. As you do the exercises, make sure your solutions work for any size Tic Tac Toe game. "
   ]
  },
  {
   "cell_type": "markdown",
   "metadata": {},
   "source": [
    "*Exercise 1:* Write a function that creates an n by n matrix (of list of lists) which will represent the state of a Tie Tac Toe game. Let 0, 1, and 2 represent empty, \"X\", and \"O\", respectively.\n"
   ]
  },
  {
   "cell_type": "code",
   "execution_count": 8,
   "metadata": {},
   "outputs": [],
   "source": [
    "def make_board(size):\n",
    "    # Making an empty board\n",
    "    board=[[empty]*size for i in range(size)]\n",
    "    size=3\n",
    "    \n",
    "    # Even Columns\n",
    "    for i in range(0,size,1):\n",
    "        board[1][i]=player_1\n",
    "        board[-1][i]=player_2\n",
    "        \n",
    "        \n",
    "    # Odd Columns\n",
    "    for i in range(1,size,1):\n",
    "        board[0][i]=player_1\n",
    "        board[2][i]=player_1\n",
    "        board[-2][i]=player_2\n",
    "    \n",
    "    return board\n",
    "\n"
   ]
  },
  {
   "cell_type": "code",
   "execution_count": 9,
   "metadata": {},
   "outputs": [
    {
     "name": "stdout",
     "output_type": "stream",
     "text": [
      "<function make_board at 0x7f363c537520>\n"
     ]
    }
   ],
   "source": [
    "tic_tac_toe=make_board\n",
    "print(tic_tac_toe)"
   ]
  },
  {
   "cell_type": "markdown",
   "metadata": {},
   "source": [
    "*Exercise 2:* Write a function that takes 2 integers `n` and `m` as input and draws a `n` by `m` game board. For example the following is a 3x3 board:\n",
    "```\n",
    "   --- --- --- \n",
    "  |   |   |   | \n",
    "   --- --- ---  \n",
    "  |   |   |   | \n",
    "   --- --- ---  \n",
    "  |   |   |   | \n",
    "   --- --- --- \n",
    "   ```"
   ]
  },
  {
   "cell_type": "code",
   "execution_count": 10,
   "metadata": {},
   "outputs": [
    {
     "name": "stdout",
     "output_type": "stream",
     "text": [
      "---------\n",
      "|  |  |  |  \n",
      "---------\n",
      "|  |  |  |  \n",
      "---------\n",
      "|  |  |  |  \n",
      "---------\n"
     ]
    }
   ],
   "source": [
    "def draw_ttt_board(n, m):\n",
    "    # n will be rows \n",
    "    # m will be columns\n",
    "    for i in range(n):\n",
    "        print(\"---\"*m)\n",
    "        print(\"|  \"*(m+1))\n",
    "\n",
    "    print(\"---\"*m)\n",
    "\n",
    "\n",
    "n=3\n",
    "m=3\n",
    "draw_ttt_board(n,m)\n",
    "        "
   ]
  },
  {
   "cell_type": "code",
   "execution_count": 11,
   "metadata": {},
   "outputs": [
    {
     "name": "stdout",
     "output_type": "stream",
     "text": [
      "---------\n",
      "|  |  |  |  \n",
      "---------\n",
      "|  |  |  |  \n",
      "---------\n",
      "|  |  |  |  \n",
      "---------\n"
     ]
    }
   ],
   "source": [
    "draw_ttt_board(n,m)"
   ]
  },
  {
   "cell_type": "markdown",
   "metadata": {},
   "source": [
    "*Exercise 3:* Modify exercise 2, so that it takes a matrix of the form from exercise 1 and draws a tic-tac-tie board with \"X\"s and \"O\"s.  "
   ]
  },
  {
   "cell_type": "code",
   "execution_count": 12,
   "metadata": {},
   "outputs": [],
   "source": [
    "player_1=\"X\"\n",
    "player_2=\"O\"\n",
    "empty_space=\" \""
   ]
  },
  {
   "cell_type": "code",
   "execution_count": 13,
   "metadata": {},
   "outputs": [
    {
     "data": {
      "text/plain": [
       "{'X': 'X', 'O': 'O', ' ': ' '}"
      ]
     },
     "execution_count": 13,
     "metadata": {},
     "output_type": "execute_result"
    }
   ],
   "source": [
    "def space_character(player):\n",
    "    if player==player_1:\n",
    "        return player_1\n",
    "    elif player==player_2:\n",
    "        return player_2\n",
    "    else:\n",
    "        return empty_space\n",
    "\n",
    "space_character= { player_1: \"X\",\n",
    "                   player_2: \"O\",\n",
    "                   empty_space: empty_space }\n",
    "\n",
    "space_character"
   ]
  },
  {
   "cell_type": "markdown",
   "metadata": {},
   "source": [
    "*Exercise 4:* Write a function that takes a `n` by `n` matrix representing a tic-tac-toe game, and returns -1, 0, 1, or 2 indicating the game is incomplete, the game is a draw, player 1 has won, or player 2 has one, respectively. Here are some example inputs you can use to test your code:"
   ]
  },
  {
   "cell_type": "code",
   "execution_count": 14,
   "metadata": {},
   "outputs": [],
   "source": [
    "def check_status(board):\n",
    "\n",
    "    n = len(board)\n",
    "\n",
    "    # Check rows and columns\n",
    "    for i in range(n):\n",
    "        if a(board[i][j] == 1):\n",
    "            return 1\n",
    "        elif (board[i][j] == 2):\n",
    "            return 2\n",
    "        elif (board[j][i] == 1):\n",
    "            return 1\n",
    "        elif (board[j][i] == 2):\n",
    "            return 2\n",
    "\n",
    "    # Check diagonals\n",
    "    if (board[i][i] == 1) or (board[i][n - 1 - i] == 1):\n",
    "        return 1\n",
    "    elif (board[i][i] == 2) or (board[i][n - 1 - i] == 2):\n",
    "        return 2\n",
    "\n",
    "    # Check for incomplete game\n",
    "    for i in range(n):\n",
    "        for j in range(n):\n",
    "            if board[i][j] == 0:\n",
    "                return -1\n",
    "\n",
    "    # If no winner and the board is full, it's a draw\n",
    "    return 0"
   ]
  },
  {
   "cell_type": "code",
   "execution_count": 26,
   "metadata": {},
   "outputs": [],
   "source": [
    "winner_is_2 = [[2, 2, 0],\n",
    "\t[2, 1, 0],\n",
    "\t[2, 1, 1]]\n",
    "\n",
    "winner_is_1 = [[1, 2, 0],\n",
    "\t[2, 1, 0],\n",
    "\t[2, 1, 1]]\n",
    "\n",
    "winner_is_also_1 = [[0, 1, 0],\n",
    "\t[2, 1, 0],\n",
    "\t[2, 1, 1]]\n",
    "\n",
    "no_winner = [[1, 2, 0],\n",
    "\t[2, 1, 0],\n",
    "\t[2, 1, 2]]\n",
    "\n",
    "also_no_winner = [[1, 2, 0],\n",
    "\t[2, 1, 0],\n",
    "\t[2, 1, 0]]\n",
    "\n"
   ]
  },
  {
   "cell_type": "code",
   "execution_count": 27,
   "metadata": {},
   "outputs": [],
   "source": [
    "winner_is_2 = [[2, 2, 0],\n",
    "\t[2, 1, 0],\n",
    "\t[2, 1, 1]]\n",
    "\n",
    "winner_is_1 = [[1, 2, 0],\n",
    "\t[2, 1, 0],\n",
    "\t[2, 1, 1]]\n",
    "\n",
    "winner_is_also_1 = [[0, 1, 0],\n",
    "\t[2, 1, 0],\n",
    "\t[2, 1, 1]]\n",
    "\n",
    "no_winner = [[1, 2, 0],\n",
    "\t[2, 1, 0],\n",
    "\t[2, 1, 2]]\n",
    "\n",
    "also_no_winner = [[1, 2, 0],\n",
    "\t[2, 1, 0],\n",
    "\t[2, 1, 0]]"
   ]
  },
  {
   "cell_type": "markdown",
   "metadata": {},
   "source": [
    "*Exercise 5:* Write a function that takes a game board, player number, and `(x,y)` coordinates and places \"X\" or \"O\" in the correct location of the game board. Make sure that you only allow filling previously empty locations. Return `True` or `False` to indicate successful placement of \"X\" or \"O\"."
   ]
  },
  {
   "cell_type": "code",
   "execution_count": 28,
   "metadata": {},
   "outputs": [],
   "source": [
    "def place_marker(self,board, player, x, y):\n",
    "    self_board=board;\n",
    "    self_player=player;\n",
    "    self_x=x;\n",
    "    self_y=y;\n",
    "\n",
    "    n = len(board)\n",
    "    make_board=board\n",
    "\n",
    "    # Check if the coordinates are within the valid range\n",
    "    if 0 <= x < n and 0 <= y < n:\n",
    "        # Check if the specified location is empty\n",
    "        if board[x][y] == 0:\n",
    "            board[x][y] = player\n",
    "            return True\n",
    "        else:\n",
    "            print(\"Error: The specified location is already occupied.\")\n",
    "            return False\n",
    "    else:\n",
    "        print(\"Error: Invalid coordinates.\")\n",
    "        return False\n",
    "\n"
   ]
  },
  {
   "cell_type": "code",
   "execution_count": 29,
   "metadata": {},
   "outputs": [
    {
     "name": "stdout",
     "output_type": "stream",
     "text": [
      "True\n",
      "True\n",
      "Error: The specified location is already occupied.\n",
      "False\n"
     ]
    }
   ],
   "source": [
    "def make_board(n):\n",
    "    return [[\" \" for _ in range(n)] for _ in range(n)]\n",
    "\n",
    "def place_marker(board, player, x, y):\n",
    "\n",
    "    n = len(board)\n",
    "\n",
    "    # Check if the coordinates are within the valid range\n",
    "    if 0 <= x < n and 0 <= y < n:\n",
    "        # Check if the specified location is empty\n",
    "        if board[x][y] == \" \":\n",
    "            board[x][y] = \"X\" if player == 1 else \"O\"\n",
    "            return True\n",
    "        else:\n",
    "            print(\"Error: The specified location is already occupied.\")\n",
    "            return False\n",
    "    else:\n",
    "        print(\"Error: Invalid coordinates.\")\n",
    "        return False\n",
    "\n",
    "# Example usage:\n",
    "n = 3  # Board size\n",
    "tic_tac_toe_board = make_board(n)\n",
    "\n",
    "# Player 1 places \"X\" at coordinates (0, 0)\n",
    "result1 = place_marker(tic_tac_toe_board, 1, 0, 0)\n",
    "print(result1)  # Output: True\n",
    "\n",
    "# Player 2 places \"O\" at coordinates (1, 1)\n",
    "result2 = place_marker(tic_tac_toe_board, 2, 1, 1)\n",
    "print(result2)  # Output: True\n",
    "\n",
    "# Attempt to place \"X\" at the same location again (should return False)\n",
    "result3 = place_marker(tic_tac_toe_board, 1, 0, 0)\n",
    "print(result3)  # Output: False"
   ]
  },
  {
   "cell_type": "markdown",
   "metadata": {},
   "source": [
    "*Exercise 6:* Modify Exercise 4 to show column and row labels so that players can specify location using \"A2\" or \"C1\"."
   ]
  },
  {
   "cell_type": "code",
   "execution_count": 30,
   "metadata": {},
   "outputs": [
    {
     "data": {
      "text/plain": [
       "{'1': 0, '2': 1, '3': 2}"
      ]
     },
     "execution_count": 30,
     "metadata": {},
     "output_type": "execute_result"
    }
   ],
   "source": [
    "\n",
    "row_names=list(\"ABCDEFGHIJKLMNOPQRSTUVWXYZ\")\n",
    "row_map=dict(zip(row_names, range(3)))\n",
    "row_map\n",
    "column_names=list(map(str,range(1,3+1)))\n",
    "column_map=dict(zip(column_names,range(3)))\n",
    "column_map\n",
    "\n"
   ]
  },
  {
   "cell_type": "code",
   "execution_count": 31,
   "metadata": {},
   "outputs": [
    {
     "name": "stdout",
     "output_type": "stream",
     "text": [
      "   1 |2 |3 |\n",
      " ---------\n",
      "A |  |  |  |  |\n",
      " ---------\n",
      "B |  |  |  |  |\n",
      " ---------\n",
      "C |  |  |  |  |\n",
      " ---------\n"
     ]
    }
   ],
   "source": [
    "def spots(row_map, column_map):\n",
    "    n = len(row_map)\n",
    "    m = len(column_map)\n",
    "\n",
    "    # Display column labels\n",
    "    print(\"   \", end=\"\")\n",
    "    for col_label in column_map:\n",
    "        print(f\"{col_label} |\", end=\"\")\n",
    "    print()\n",
    "\n",
    "    for i in range(n):\n",
    "        # Display horizontal lines\n",
    "        print(\" \" + \"---\" * m)\n",
    "\n",
    "        # Display row label\n",
    "        print(f\"{list(row_map.keys())[i]} |\", end=\"\")\n",
    "\n",
    "        # Display vertical lines\n",
    "        for j in range(m + 1):\n",
    "            print(\"  |\", end=\"\")\n",
    "        print()\n",
    "\n",
    "    # Display the last horizontal line\n",
    "    print(\" \" + \"---\" * m)\n",
    "\n",
    "n = 3\n",
    "m = 3\n",
    "row_names = list(\"ABCDEFGHIJKLMNOPQRSTUVWXYZ\")\n",
    "row_map = dict(zip(row_names, range(n)))\n",
    "column_names = list(map(str, range(1, m + 1)))\n",
    "column_map = dict(zip(column_names, range(m)))\n",
    "\n",
    "spots(row_map, column_map)"
   ]
  },
  {
   "cell_type": "markdown",
   "metadata": {},
   "source": [
    "*Exercise 7:* Write a function that takes a board, player number, and location specified as in exercise 6 and then calls exercise 5 to correctly modify the board.  "
   ]
  },
  {
   "cell_type": "code",
   "execution_count": 1,
   "metadata": {},
   "outputs": [],
   "source": [
    "def make_board(n, m):\n",
    "    return [[\" \" for _ in range(m)] for _ in range(n)]\n",
    "\n",
    "def display_make_board(board, row_map, column_map):\n",
    "\n",
    "    n = len(row_map)\n",
    "    m = len(column_map)\n",
    "\n",
    "    # Display column labels\n",
    "    print(\"   \", end=\"\")\n",
    "    for col_label in column_map:\n",
    "        print(f\"{col_label} |\", end=\"\")\n",
    "    print()\n",
    "\n",
    "    for i in range(n):\n",
    "        # Display horizontal lines\n",
    "        print(\" \" + \"---\" * m)\n",
    "\n",
    "        # Display row label\n",
    "        print(f\"{list(row_map.keys())[i]} |\", end=\"\")\n",
    "\n",
    "        # Display symbols on the board\n",
    "        for j in range(m):\n",
    "            print(f\" {board[i][j]} |\", end=\"\")\n",
    "        print()\n",
    "\n",
    "    # Display the last horizontal line\n",
    "    print(\" \" + \"---\" * m)\n",
    "\n",
    "def place_marker(board, player, row, column):\n",
    "    \"\"\"\n",
    "    Places \"X\" or \"O\" in the specified location of the game board.\n",
    "\n",
    "    Parameters:\n",
    "    - board (list of lists): n by n matrix representing the Tic Tac Toe game.\n",
    "    - player (int): Player number (1 for \"X\", 2 for \"O\").\n",
    "    - row (int): Row index.\n",
    "    - column (int): Column index.\n",
    "\n",
    "    Returns:\n",
    "    - bool: True if successful placement, False otherwise.\n",
    "    \"\"\"\n",
    "    n = len(board)\n",
    "\n",
    "    # Check if the coordinates are within the valid range\n",
    "    if 0 <= row < n and 0 <= column < len(board[0]):\n",
    "        # Check if the specified location is empty\n",
    "        if board[row][column] == \" \":\n",
    "            board[row][column] = \"X\" if player == 1 else \"O\"\n",
    "            return True\n",
    "        else:\n",
    "            print(\"Error: The specified location is already occupied.\")\n",
    "            return False\n",
    "    else:\n",
    "        print(\"Error: Invalid coordinates.\")\n",
    "        return False\n",
    "\n",
    "# Define label_to_indices function\n",
    "def label_to_indices(label, row_map, column_map):\n",
    "    row = row_map[label[0]]\n",
    "    column = column_map[label[1:]] - 1\n",
    "    return row, column\n",
    "\n",
    "# Define spots function\n",
    "def spots(row_map, column_map):\n",
    "    n = len(row_map)\n",
    "    m = len(column_map)\n",
    "\n",
    "    # Display column labels\n",
    "    print(\"   \", end=\"\")\n",
    "    for col_label in column_map:\n",
    "        print(f\"{col_label} |\", end=\"\")\n",
    "    print()\n",
    "\n",
    "    for i in range(n):\n",
    "        # Display horizontal lines\n",
    "        print(\" \" + \"---\" * m)\n",
    "\n",
    "        # Display row label\n",
    "        print(f\"{list(row_map.keys())[i]} |\", end=\"\")\n",
    "\n",
    "        # Display vertical lines\n",
    "        for j in range(m + 1):\n",
    "            print(\"  |\", end=\"\")\n",
    "        print()\n",
    "\n",
    "    # Display the last horizontal line\n",
    "    print(\" \" + \"---\" * m)\n",
    "\n",
    "# Define make_move function\n",
    "def make_move(board, player, location, row_map, column_map):\n",
    "    row, column = label_to_indices(location, row_map, column_map)\n",
    "    return place_marker(board, player, row, column)\n",
    "\n",
    "# Example usage:\n",
    "n = 3\n",
    "m = 3\n",
    "row_names = list(\"ABC\")\n",
    "row_map = dict(zip(row_names, range(n)))\n",
    "column_names = list(map(str, range(1, m + 1)))\n",
    "column_map = dict(zip(column_names, range(1, m + 1)))\n",
    "\n",
    "tic_tac_toe_board = make_board(n, m)\n",
    "\n"
   ]
  },
  {
   "cell_type": "code",
   "execution_count": 33,
   "metadata": {},
   "outputs": [
    {
     "name": "stdout",
     "output_type": "stream",
     "text": [
      "Move 1: True\n",
      "   1 |2 |3 |\n",
      " ---------\n",
      "A |   | X |   |\n",
      " ---------\n",
      "B |   |   |   |\n",
      " ---------\n",
      "C |   |   |   |\n",
      " ---------\n",
      "Move 2: True\n",
      "   1 |2 |3 |\n",
      " ---------\n",
      "A |   | X |   |\n",
      " ---------\n",
      "B |   |   |   |\n",
      " ---------\n",
      "C | O |   |   |\n",
      " ---------\n"
     ]
    }
   ],
   "source": [
    "# Player 1 makes a move at location \"A2\"\n",
    "result1 = make_move(tic_tac_toe_board, 1, \"A2\", row_map, column_map)\n",
    "print(\"Move 1:\", result1)\n",
    "display_make_board(tic_tac_toe_board, row_map, column_map)\n",
    "\n",
    "# Player 2 makes a move at location \"C1\"\n",
    "result2 = make_move(tic_tac_toe_board, 2, \"C1\", row_map, column_map)\n",
    "print(\"Move 2:\", result2)\n",
    "display_make_board(tic_tac_toe_board, row_map, column_map)"
   ]
  },
  {
   "cell_type": "markdown",
   "metadata": {},
   "source": [
    "*Exercise 8:* Write a function is called with a board and player number, takes input from the player using python's `input`, and modifies the board using your function from exercise 7. Note that you should keep asking for input until you have gotten a valid input that results in a valid move."
   ]
  },
  {
   "cell_type": "code",
   "execution_count": 2,
   "metadata": {},
   "outputs": [],
   "source": [
    "def take_player_input(board, player, row_map, column_map):\n",
    "\n",
    "    valid_move = False\n",
    "\n",
    "    while not valid_move:\n",
    "        try:\n",
    "            location = input(f\"Player {player}, enter your move (e.g., 'A2' or 'C1'): \").upper()\n",
    "            if len(location) >= 2 and location[0] in row_map and location[1:] in column_map:\n",
    "                valid_move = make_move(board, player, location, row_map, column_map)\n",
    "                if not valid_move:\n",
    "                    print(\"Invalid move. The specified location is already occupied. Try again.\")\n",
    "            else:\n",
    "                print(\"Invalid input. Please enter a valid move.\")\n",
    "        except Exception as e:\n",
    "            print(f\"An error occurred: {e}. Please try again.\")\n",
    "\n",
    "# Example usage:\n",
    "n = 3\n",
    "m = 3\n",
    "row_names = list(\"ABC\")\n",
    "row_map = dict(zip(row_names, range(n)))\n",
    "column_names = list(map(str, range(1, m + 1)))\n",
    "column_map = dict(zip(column_names, range(1, m + 1)))\n",
    "\n",
    "tic_tac_toe_board = make_board(n, m)\n",
    "\n"
   ]
  },
  {
   "cell_type": "code",
   "execution_count": 35,
   "metadata": {},
   "outputs": [
    {
     "name": "stdin",
     "output_type": "stream",
     "text": [
      "Player 1, enter your move (e.g., 'A2' or 'C1'):  a1\n"
     ]
    },
    {
     "name": "stdout",
     "output_type": "stream",
     "text": [
      "   1 |2 |3 |\n",
      " ---------\n",
      "A | X |   |   |\n",
      " ---------\n",
      "B |   |   |   |\n",
      " ---------\n",
      "C |   |   |   |\n",
      " ---------\n"
     ]
    },
    {
     "name": "stdin",
     "output_type": "stream",
     "text": [
      "Player 2, enter your move (e.g., 'A2' or 'C1'):  b2\n"
     ]
    },
    {
     "name": "stdout",
     "output_type": "stream",
     "text": [
      "   1 |2 |3 |\n",
      " ---------\n",
      "A | X |   |   |\n",
      " ---------\n",
      "B |   | O |   |\n",
      " ---------\n",
      "C |   |   |   |\n",
      " ---------\n"
     ]
    }
   ],
   "source": [
    "take_player_input(tic_tac_toe_board, 1, row_map, column_map)\n",
    "display_make_board(tic_tac_toe_board, row_map, column_map)\n",
    "\n",
    "# Player 2 takes input for a move\n",
    "take_player_input(tic_tac_toe_board, 2, row_map, column_map)\n",
    "display_make_board(tic_tac_toe_board, row_map, column_map)"
   ]
  },
  {
   "cell_type": "markdown",
   "metadata": {},
   "source": [
    "*Exercise 9:* Use all of the previous exercises to implement a full tic-tac-toe game, where an appropriate board is drawn, 2 players are repeatedly asked for a location coordinates of where they wish to place a mark, and the game status is checked until a player wins or a draw occurs."
   ]
  },
  {
   "cell_type": "code",
   "execution_count": 1,
   "metadata": {},
   "outputs": [],
   "source": [
    "def create_tic_tac_toe_board_with_labels(n):\n",
    "    \n",
    "    board = [[\" \" for _ in range(n)] for _ in range(n)]\n",
    "\n",
    "    # Add row labels (numbers)\n",
    "    for i in range(n):\n",
    "        board[i].insert(0, str(i + 1))\n",
    "\n",
    "    # Add column labels (letters)\n",
    "    columns_labels = [chr(ord('A') + i) for i in range(n)]\n",
    "    board.insert(0, [\" \"] + columns_labels)\n",
    "\n",
    "    return board\n",
    "\n",
    "def display_tic_tac_toe_board(board):\n",
    "\n",
    "    for row in board:\n",
    "        print(\" \".join(map(str, row)))\n",
    "\n",
    "def label_to_indices(label, row_map, column_map):\n",
    "    row = row_map[label[0]]\n",
    "    column = column_map[label[1:]] - 1\n",
    "    return row, column\n",
    "\n",
    "def place_symbol(board, player, x, y):\n",
    "\n",
    "    n = len(board)\n",
    "\n",
    "    # Check if the coordinates are within the valid range\n",
    "    if 0 <= x < n and 0 <= y < n:\n",
    "        # Check if the specified location is empty\n",
    "        if board[x][y] == \" \":\n",
    "            board[x][y] = \"X\" if player == 1 else \"O\"\n",
    "            return True\n",
    "        else:\n",
    "            print(\"Error: The specified location is already occupied.\")\n",
    "            return False\n",
    "    else:\n",
    "        print(\"Error: Invalid coordinates.\")\n",
    "        return False\n",
    "\n",
    "def check_tic_tac_toe_status_with_labels(board):\n",
    "\n",
    "    n = len(board) - 1  # Adjust the size to exclude labels\n",
    "\n",
    "    # Check rows and columns\n",
    "    for i in range(1, n + 1):\n",
    "        if all(board[i][j] == 'X' for j in range(1, n + 1)):\n",
    "            return 1\n",
    "        elif all(board[i][j] == 'O' for j in range(1, n + 1)):\n",
    "            return 2\n",
    "        elif all(board[j][i] == 'X' for j in range(1, n + 1)):\n",
    "            return 1\n",
    "        elif all(board[j][i] == 'O' for j in range(1, n + 1)):\n",
    "            return 2\n",
    "\n",
    "    # Check diagonals\n",
    "    if all(board[i][i] == 'X' for i in range(1, n + 1)) or all(board[i][n - i] == 'X' for i in range(1, n + 1)):\n",
    "        return 1\n",
    "    elif all(board[i][i] == 'O' for i in range(1, n + 1)) or all(board[i][n - i] == 'O' for i in range(1, n + 1)):\n",
    "        return 2\n",
    "\n",
    "    # Check for incomplete game\n",
    "    for i in range(1, n + 1):\n",
    "        for j in range(1, n + 1):\n",
    "            if board[i][j] == ' ':\n",
    "                return -1\n",
    "\n",
    "    # If no winner and the board is full, it's a draw\n",
    "    return 0\n",
    "\n",
    "def take_player_input(board, player, row_map, column_map):\n",
    " \n",
    "    valid_move = False\n",
    "\n",
    "    while not valid_move:\n",
    "        try:\n",
    "            location = input(f\"Player {player}, enter your move (e.g., 'A2' or 'C1'): \").upper()\n",
    "            if len(location) >= 2 and location[0] in row_map and location[1:] in column_map:\n",
    "                valid_move = make_move(board, player, location, row_map, column_map)\n",
    "                if not valid_move:\n",
    "                    print(\"Invalid move. The specified location is already occupied. Try again.\")\n",
    "            else:\n",
    "                print(\"Invalid input. Please enter a valid move.\")\n",
    "        except Exception as e:\n",
    "            print(f\"An error occurred: {e}. Please try again.\")\n",
    "\n",
    "def make_move(board, player, location, row_map, column_map):\n",
    "    row, column = label_to_indices(location, row_map, column_map)\n",
    "    return place_symbol(board, player, row, column)\n",
    "\n",
    "def tic_tac_toe_game():\n",
    "    n = 3\n",
    "    m = 3\n",
    "    row_names = list(\"ABC\")\n",
    "    row_map = dict(zip(row_names, range(n)))\n",
    "    column_names = list(map(str, range(1, m + 1)))\n",
    "    column_map = dict(zip(column_names, range(1, m + 1)))\n",
    "\n",
    "    tic_tac_toe_board = create_tic_tac_toe_board_with_labels(n)\n",
    "\n",
    "    display_tic_tac_toe_board(tic_tac_toe_board)\n",
    "\n",
    "    for turn in range(1, n * n + 1):\n",
    "        current_player = 1 if turn % 2 != 0 else 2\n",
    "        take_player_input(tic_tac_toe_board, current_player, row_map, column_map)\n",
    "        display_tic_tac_toe_board"
   ]
  },
  {
   "cell_type": "code",
   "execution_count": null,
   "metadata": {},
   "outputs": [],
   "source": [
    "\n",
    "\n",
    " \n",
    "\n",
    "\n"
   ]
  },
  {
   "cell_type": "markdown",
   "metadata": {},
   "source": [
    "*Exercise 10:* Test that your game works for 5x5 Tic Tac Toe.  "
   ]
  },
  {
   "cell_type": "code",
   "execution_count": 37,
   "metadata": {},
   "outputs": [
    {
     "name": "stdout",
     "output_type": "stream",
     "text": [
      "---------------\n",
      "|  |  |  |  |  |  \n",
      "---------------\n",
      "|  |  |  |  |  |  \n",
      "---------------\n",
      "|  |  |  |  |  |  \n",
      "---------------\n",
      "|  |  |  |  |  |  \n",
      "---------------\n",
      "|  |  |  |  |  |  \n",
      "---------------\n"
     ]
    }
   ],
   "source": [
    "def draw_ttt_board(n, m):\n",
    "    # n will be rows \n",
    "    # m will be columns\n",
    "    for i in range(n):\n",
    "        print(\"---\"*m)\n",
    "        print(\"|  \"*(m+1))\n",
    "\n",
    "    print(\"---\"*m)\n",
    "\n",
    "\n",
    "n=5\n",
    "m=5\n",
    "draw_ttt_board(n,m)"
   ]
  },
  {
   "cell_type": "markdown",
   "metadata": {},
   "source": [
    "*Exercise 11:* (Advanced / Challenge) Develop a version of the game where one player is the computer. Note that you don't need to do an extensive seach for the best move. You can have the computer simply protect against loosing and otherwise try to win with straight or diagonal patterns."
   ]
  },
  {
   "cell_type": "code",
   "execution_count": null,
   "metadata": {
    "collapsed": true,
    "jupyter": {
     "outputs_hidden": true
    }
   },
   "outputs": [],
   "source": [
    "# Write you solution here"
   ]
  },
  {
   "cell_type": "code",
   "execution_count": null,
   "metadata": {
    "collapsed": true,
    "jupyter": {
     "outputs_hidden": true
    }
   },
   "outputs": [],
   "source": [
    "# Test your solution here"
   ]
  }
 ],
 "metadata": {
  "kernelspec": {
   "display_name": "Python 3 (ipykernel)",
   "language": "python",
   "name": "python3"
  },
  "language_info": {
   "codemirror_mode": {
    "name": "ipython",
    "version": 3
   },
   "file_extension": ".py",
   "mimetype": "text/x-python",
   "name": "python",
   "nbconvert_exporter": "python",
   "pygments_lexer": "ipython3",
   "version": "3.10.12"
  }
 },
 "nbformat": 4,
 "nbformat_minor": 4
}
