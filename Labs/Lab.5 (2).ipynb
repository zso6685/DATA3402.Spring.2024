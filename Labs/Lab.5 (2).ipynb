{
 "cells": [
  {
   "cell_type": "markdown",
   "metadata": {},
   "source": [
    "# Lab 5\n"
   ]
  },
  {
   "cell_type": "markdown",
   "metadata": {},
   "source": [
    "Matrix Representation: In this lab you will be creating a simple linear algebra system. In memory, we will represent matrices as nested python lists as we have done in lecture. \n",
    "\n",
    "1. Create a `matrix` class with the following properties:\n",
    "    * It can be initialized in 2 ways:\n",
    "        1. with arguments `n` and `m`, the size of the matrix. A newly instanciated matrix will contain all zeros.\n",
    "        2. with a list of lists of values. Note that since we are using lists of lists to implement matrices, it is possible that not all rows have the same number of columns. Test explicitly that the matrix is properly specified.\n",
    "    * Matrix instances `M` can be indexed with `M[i][j]` and `M[i,j]`.\n",
    "    * Matrix assignment works in 2 ways:\n",
    "        1. If `M_1` and `M_2` are `matrix` instances `M_1=M_2` sets the values of `M_1` to those of `M_2`, if they are the same size. Error otherwise.\n",
    "        2. In example above `M_2` can be a list of lists of correct size.\n"
   ]
  },
  {
   "cell_type": "markdown",
   "metadata": {},
   "source": [
    "2. Add the following methods:\n",
    "    * `shape()`: returns a tuple `(n,m)` of the shape of the matrix.\n",
    "    * `transpose()`: returns a new matrix instance which is the transpose of the matrix.\n",
    "    * `row(n)` and `column(n)`: that return the nth row or column of the matrix M as a new appropriately shaped matrix object.\n",
    "    * `to_list()`: which returns the matrix as a list of lists.\n",
    "    *  `block(n_0,n_1,m_0,m_1)` that returns a smaller matrix located at the n_0 to n_1 columns and m_0 to m_1 rows. \n",
    "    * (Extra credit) Modify `__getitem__` implemented above to support slicing.\n",
    "        "
   ]
  },
  {
   "cell_type": "markdown",
   "metadata": {},
   "source": [
    "3. Write functions that create special matrices (note these are standalone functions, not member functions of your `matrix` class):\n",
    "    * `constant(n,m,c)`: returns a `n` by `m` matrix filled with floats of value `c`.\n",
    "    * `zeros(n,m)` and `ones(n,m)`: return `n` by `m` matrices filled with floats of value `0` and `1`, respectively.\n",
    "    * `eye(n)`: returns the n by n identity matrix."
   ]
  },
  {
   "cell_type": "markdown",
   "metadata": {},
   "source": [
    "4. Add the following member functions to your class. Make sure to appropriately test the dimensions of the matrices to make sure the operations are correct.\n",
    "    * `M.scalarmul(c)`: a matrix that is scalar product $cM$, where every element of $M$ is multiplied by $c$.\n",
    "    * `M.add(N)`: adds two matrices $M$ and $N$. Don’t forget to test that the sizes of the matrices are compatible for this and all other operations.\n",
    "    * `M.sub(N)`: subtracts two matrices $M$ and $N$.\n",
    "    * `M.mat_mult(N)`: returns a matrix that is the matrix product of two matrices $M$ and $N$.\n",
    "    * `M.element_mult(N)`: returns a matrix that is the element-wise product of two matrices $M$ and $N$.\n",
    "    * `M.equals(N)`: returns true/false if $M==N$."
   ]
  },
  {
   "cell_type": "markdown",
   "metadata": {},
   "source": [
    "5. Overload python operators to appropriately use your functions in 4 and allow expressions like:\n",
    "    * 2*M\n",
    "    * M*2\n",
    "    * M+N\n",
    "    * M-N\n",
    "    * M*N\n",
    "    * M==N\n",
    "    * M=N\n"
   ]
  },
  {
   "cell_type": "markdown",
   "metadata": {},
   "source": [
    "6. Demonstrate the basic properties of matrices with your matrix class by creating two 2 by 2 example matrices using your Matrix class and illustrating the following:\n",
    "\n",
    "$$\n",
    "(AB)C=A(BC)\n",
    "$$\n",
    "$$\n",
    "A(B+C)=AB+AC\n",
    "$$\n",
    "$$\n",
    "AB\\neq BA\n",
    "$$\n",
    "$$\n",
    "AI=A\n",
    "$$"
   ]
  },
  {
   "cell_type": "code",
   "execution_count": 32,
   "metadata": {},
   "outputs": [
    {
     "name": "stdout",
     "output_type": "stream",
     "text": [
      "0 0 0\n",
      "0 0 0\n",
      "\n"
     ]
    }
   ],
   "source": [
    "import numpy as np\n",
    "\n",
    "class create_matrix:\n",
    "    def __init__(self, n, m):\n",
    "        self.n=n\n",
    "        self.m=m\n",
    "        self.data=[[0 for _ in range(n)] for _ in range(m)]\n",
    "\n",
    "    def __str__(self):\n",
    "        matrix_str = \"\"\n",
    "        for n in self.data:\n",
    "            matrix_str += \" \".join(map(str, n)) + \"\\n\"\n",
    "        return matrix_str\n",
    "\n",
    "        \n",
    "M=create_matrix(3,2) \n",
    "print(M)\n",
    "\n",
    "\n",
    "\n",
    "\n",
    "    \n",
    "        \n",
    "    "
   ]
  },
  {
   "cell_type": "code",
   "execution_count": 51,
   "metadata": {},
   "outputs": [
    {
     "name": "stdout",
     "output_type": "stream",
     "text": [
      "[[1, 2, 3], [4, 5, 6]]\n"
     ]
    }
   ],
   "source": [
    "M_1=create_matrix(3,2)\n",
    "M_1=[[1,2,3],\n",
    "       [4,5,6]]\n",
    "print(M_1)"
   ]
  },
  {
   "cell_type": "code",
   "execution_count": 10,
   "metadata": {},
   "outputs": [
    {
     "name": "stdout",
     "output_type": "stream",
     "text": [
      "<__main__.create_matrix object at 0x7fccb43f53c0>\n"
     ]
    }
   ],
   "source": [
    "class create_matrix:\n",
    "    def __init__(self, *args):\n",
    "        if len(args) == 1 and isinstance(args[0], list):\n",
    "            # Initialize matrix from a list of lists\n",
    "            self.data = args[0]\n",
    "            self.validate_matrix()\n",
    "        elif len(args) == 2 and isinstance(args[0], int) and isinstance(args[1], int):\n",
    "            # Initialize matrix with size n x m\n",
    "            n, m = args\n",
    "            self.data = [[0] * m for _ in range(n)]\n",
    "        else:\n",
    "            raise ValueError(\"Invalid arguments to initialize matrix\")\n",
    "Matrix= create_matrix(1,2)\n",
    "print(Matrix)"
   ]
  },
  {
   "cell_type": "code",
   "execution_count": 11,
   "metadata": {},
   "outputs": [
    {
     "name": "stdout",
     "output_type": "stream",
     "text": [
      "<__main__.create_matrix object at 0x7fccb43f53c0>\n"
     ]
    }
   ],
   "source": [
    "class create_matrix:\n",
    "    def __init__(self, *args):\n",
    "        if len(args) == 1 and isinstance(args[0], list):\n",
    "            # Initialize matrix from a list of lists\n",
    "            self.data = args[0]\n",
    "            self.validate_matrix()\n",
    "        elif len(args) == 2 and isinstance(args[0], int) and isinstance(args[1], int):\n",
    "            # Initialize matrix with size n x m\n",
    "            n, m = args\n",
    "            self.data = [[0] * m for _ in range(n)]\n",
    "        else:\n",
    "            raise ValueError(\"Invalid arguments to initialize matrix\")\n",
    "\n",
    "    def __getitem__(self, key):\n",
    "        if isinstance(key, tuple) and len(key) == 2:\n",
    "            i, j = key\n",
    "            return self.data[i][j]\n",
    "        else:\n",
    "            raise IndexError(\"Invalid index format\")\n",
    "\n",
    "    def __setitem__(self, key, value):\n",
    "        if isinstance(key, tuple) and len(key) == 2:\n",
    "            i, j = key\n",
    "            self.data[i][j] = value\n",
    "        else:\n",
    "            raise IndexError(\"Invalid index format\")\n",
    "\n",
    "    def __eq__(self, other):\n",
    "        if isinstance(other, Matrix):\n",
    "            return self.data == other.data\n",
    "        elif isinstance(other, list):\n",
    "            return self.data == other\n",
    "        else:\n",
    "            return False\n",
    "\n",
    "    def validate_matrix(self):\n",
    "        num_cols = len(self.data[0])\n",
    "        for row in self.data:\n",
    "            if len(row) != num_cols:\n",
    "                raise ValueError(\"Matrix rows must have equal number of columns\")\n",
    "\n",
    "print(Matrix)"
   ]
  },
  {
   "cell_type": "code",
   "execution_count": 12,
   "metadata": {},
   "outputs": [],
   "source": [
    "class create_matrix:\n",
    "    def __init__(self, *args):\n",
    "        if len(args) == 2 and isinstance(args[0], int) and isinstance(args[1], int):\n",
    "            self.n = args[0]\n",
    "            self.m = args[1]\n",
    "            self.data = [[0 for _ in range(self.m)] for _ in range(self.n)]\n",
    "        elif len(args) == 1 and isinstance(args[0], list):\n",
    "            num_cols = len(args[0][0])\n",
    "            if all(len(row) == num_cols for row in args[0]):\n",
    "                self.data = args[0]\n",
    "                self.n = len(args[0])\n",
    "                self.m = num_cols\n",
    "            else:\n",
    "                raise ValueError(\"All rows must have the same number of columns\")\n",
    "        else:\n",
    "            raise ValueError(\"Invalid initialization arguments\")\n",
    "\n",
    "    def __getitem__(self, index):\n",
    "        if isinstance(index, tuple) and len(index) == 2:\n",
    "            return self.data[index[0]][index[1]]\n",
    "        elif isinstance(index, int):\n",
    "            return self.data[index]\n",
    "        else:\n",
    "            raise TypeError(\"Invalid index type\")\n",
    "\n",
    "    def __setitem__(self, index, value):\n",
    "        if isinstance(index, tuple) and len(index) == 2:\n",
    "            self.data[index[0]][index[1]] = value\n",
    "        elif isinstance(index, int):\n",
    "            self.data[index] = value\n",
    "        else:\n",
    "            raise TypeError(\"Invalid index type\")\n",
    "\n",
    "    def __eq__(self, other):\n",
    "        if not isinstance(other, Matrix):\n",
    "            return False\n",
    "        return self.data == other.data\n",
    "\n",
    "    def shape(self):\n",
    "        return (self.n, self.m)\n",
    "\n",
    "    def transpose(self):\n",
    "        transposed_data = [[self.data[j][i] for j in range(self.n)] for i in range(self.m)]\n",
    "        return Matrix(transposed_data)\n",
    "\n",
    "    def row(self, n):\n",
    "        if 0 <= n < self.n:\n",
    "            return Matrix([self.data[n]])\n",
    "\n",
    "    def column(self, n):\n",
    "        if 0 <= n < self.m:\n",
    "            return Matrix([[self.data[i][n]] for i in range(self.n)])\n",
    "\n",
    "    def to_list(self):\n",
    "        return self.data\n",
    "\n",
    "    def block(self, n_0, n_1, m_0, m_1):\n",
    "        if 0 <= n_0 <= n_1 < self.n and 0 <= m_0 <= m_1 < self.m:\n",
    "            block_data = [row[m_0:m_1+1] for row in self.data[n_0:n_1+1]]\n",
    "            return Matrix(block_data)\n",
    "        else:\n",
    "            raise ValueError(\"Invalid block indices\")\n",
    "\n",
    "    # Extra credit\n",
    "    def __getitem__(self, index):\n",
    "        if isinstance(index, tuple):\n",
    "            if len(index) == 2:\n",
    "                return self.data[index[0]][index[1]]\n",
    "            elif len(index) == 4:\n",
    "                return self.block(index[0], index[1], index[2], index[3])\n",
    "            elif len(index) == 3:\n",
    "                return self.row(index[0]) if index[1] == ':' else self.column(index[0])\n",
    "        else:\n",
    "            return self.data[index]"
   ]
  },
  {
   "cell_type": "code",
   "execution_count": 13,
   "metadata": {},
   "outputs": [],
   "source": [
    "class create_matrix:\n",
    "    def __init__(self, *args):\n",
    "        if len(args) == 1 and isinstance(args[0], list) and all(isinstance(row, list) for row in args[0]):\n",
    "            self.data = args[0]\n",
    "            self.check_validity()\n",
    "        elif len(args) == 2 and isinstance(args[0], int) and isinstance(args[1], int) and args[0] > 0 and args[1] > 0:\n",
    "            self.data = [[0] * args[1] for _ in range(args[0])]\n",
    "        else:\n",
    "            raise ValueError(\"Invalid initialization parameters\")\n",
    "\n",
    "    def __getitem__(self, key):\n",
    "        if isinstance(key, tuple) and len(key) == 2 and isinstance(key[0], int) and isinstance(key[1], int):\n",
    "            return self.data[key[0]][key[1]]\n",
    "        else:\n",
    "            raise IndexError(\"Invalid index\")\n",
    "\n",
    "    def __setitem__(self, key, value):\n",
    "        if isinstance(key, tuple) and len(key) == 2 and isinstance(key[0], int) and isinstance(key[1], int):\n",
    "            self.data[key[0]][key[1]] = value\n",
    "        else:\n",
    "            raise IndexError(\"Invalid index\")\n",
    "\n",
    "    def __eq__(self, other):\n",
    "        if isinstance(other, Matrix) and self.shape() == other.shape():\n",
    "            return all(self.data[i][j] == other.data[i][j] for i in range(self.shape()[0]) for j in range(self.shape()[1]))\n",
    "        else:\n",
    "            return False\n",
    "\n",
    "    def __str__(self):\n",
    "        return '\\n'.join([' '.join(map(str, row)) for row in self.data])\n",
    "\n",
    "    def shape(self):\n",
    "        return len(self.data), len(self.data[0])\n",
    "\n",
    "    def transpose(self):\n",
    "        return Matrix(*[[self.data[j][i] for j in range(self.shape()[0])] for i in range(self.shape()[1])])\n",
    "\n",
    "    def row(self, n):\n",
    "        if 0 <= n < self.shape()[0]:\n",
    "            return Matrix([self.data[n]])\n",
    "\n",
    "    def column(self, n):\n",
    "        if 0 <= n < self.shape()[1]:\n",
    "            return Matrix([[self.data[i][n]] for i in range(self.shape()[0])])\n",
    "\n",
    "    def to_list(self):\n",
    "        return self.data\n",
    "\n",
    "    def block(self, n_0, n_1, m_0, m_1):\n",
    "        if 0 <= n_0 <= n_1 < self.shape()[1] and 0 <= m_0 <= m_1 < self.shape()[0]:\n",
    "            return Matrix(*[row[m_0:m_1+1] for row in self.data[n_0:n_1+1]])\n",
    "        else:\n",
    "            raise ValueError(\"Invalid block indices\")\n",
    "\n",
    "    def check_validity(self):\n",
    "        if not all(len(row) == len(self.data[0]) for row in self.data[1:]):\n",
    "            raise ValueError(\"Invalid matrix dimensions\")\n",
    "\n",
    "\n",
    "def constant(n, m, c):\n",
    "    return Matrix(*[[c] * m for _ in range(n)])\n",
    "\n",
    "\n",
    "def zeros(n, m):\n",
    "    return constant(n, m, 0)\n",
    "\n",
    "\n",
    "def ones(n, m):\n",
    "    return constant(n, m, 1)\n",
    "\n",
    "\n",
    "def eye(n):\n",
    "    return Matrix(*[[1 if i == j else 0 for j in range(n)] for i in range(n)])"
   ]
  },
  {
   "cell_type": "code",
   "execution_count": 14,
   "metadata": {},
   "outputs": [],
   "source": [
    "class create_matrix:\n",
    "    def __init__(self, *args):\n",
    "        if len(args) == 1 and isinstance(args[0], list) and all(isinstance(row, list) for row in args[0]):\n",
    "            self.data = args[0]\n",
    "            self.check_validity()\n",
    "        elif len(args) == 2 and isinstance(args[0], int) and isinstance(args[1], int) and args[0] > 0 and args[1] > 0:\n",
    "            self.data = [[0] * args[1] for _ in range(args[0])]\n",
    "        else:\n",
    "            raise ValueError(\"Invalid initialization parameters\")\n",
    "\n",
    "    def __getitem__(self, key):\n",
    "        if isinstance(key, tuple) and len(key) == 2 and isinstance(key[0], int) and isinstance(key[1], int):\n",
    "            return self.data[key[0]][key[1]]\n",
    "        else:\n",
    "            raise IndexError(\"Invalid index\")\n",
    "\n",
    "    def __setitem__(self, key, value):\n",
    "        if isinstance(key, tuple) and len(key) == 2 and isinstance(key[0], int) and isinstance(key[1], int):\n",
    "            self.data[key[0]][key[1]] = value\n",
    "        else:\n",
    "            raise IndexError(\"Invalid index\")\n",
    "\n",
    "    def __eq__(self, other):\n",
    "        if isinstance(other, Matrix) and self.shape() == other.shape():\n",
    "            return all(self.data[i][j] == other.data[i][j] for i in range(self.shape()[0]) for j in range(self.shape()[1]))\n",
    "        else:\n",
    "            return False\n",
    "\n",
    "    def __str__(self):\n",
    "        return '\\n'.join([' '.join(map(str, row)) for row in self.data])\n",
    "\n",
    "    def shape(self):\n",
    "        return len(self.data), len(self.data[0])\n",
    "\n",
    "    def transpose(self):\n",
    "        return Matrix(*[[self.data[j][i] for j in range(self.shape()[0])] for i in range(self.shape()[1])])\n",
    "\n",
    "    def row(self, n):\n",
    "        if 0 <= n < self.shape()[0]:\n",
    "            return Matrix([self.data[n]])\n",
    "\n",
    "    def column(self, n):\n",
    "        if 0 <= n < self.shape()[1]:\n",
    "            return Matrix([[self.data[i][n]] for i in range(self.shape()[0])])\n",
    "\n",
    "    def to_list(self):\n",
    "        return self.data\n",
    "\n",
    "    def block(self, n_0, n_1, m_0, m_1):\n",
    "        if 0 <= n_0 <= n_1 < self.shape()[1] and 0 <= m_0 <= m_1 < self.shape()[0]:\n",
    "            return Matrix(*[row[m_0:m_1+1] for row in self.data[n_0:n_1+1]])\n",
    "        else:\n",
    "            raise ValueError(\"Invalid block indices\")\n",
    "\n",
    "    def scalarmul(self, c):\n",
    "        return Matrix(*[[self.data[i][j] * c for j in range(self.shape()[1])] for i in range(self.shape()[0])])\n",
    "\n",
    "    def add(self, other):\n",
    "        if self.shape() == other.shape():\n",
    "            return Matrix(*[[self.data[i][j] + other.data[i][j] for j in range(self.shape()[1])] for i in range(self.shape()[0])])\n",
    "        else:\n",
    "            raise ValueError(\"Matrix dimensions do not match\")\n",
    "\n",
    "    def sub(self, other):\n",
    "        if self.shape() == other.shape():\n",
    "            return Matrix(*[[self.data[i][j] - other.data[i][j] for j in range(self.shape()[1])] for i in range(self.shape()[0])])\n",
    "        else:\n",
    "            raise ValueError(\"Matrix dimensions do not match\")\n",
    "\n",
    "    def mat_mult(self, other):\n",
    "        if self.shape()[1] == other.shape()[0]:\n",
    "            return Matrix(*[[sum(self.data[i][k] * other.data[k][j] for k in range(self.shape()[1])) for j in range(other.shape()[1])] for i in range(self.shape()[0])])\n",
    "        else:\n",
    "            raise ValueError(\"Matrix dimensions do not match for multiplication\")\n",
    "\n",
    "    def element_mult(self, other):\n",
    "        if self.shape() == other.shape():\n",
    "            return Matrix(*[[self.data[i][j] * other.data[i][j] for j in range(self.shape()[1])] for i in range(self.shape()[0])])\n",
    "        else:\n",
    "            raise ValueError(\"Matrix dimensions do not match for element-wise multiplication\")\n",
    "\n",
    "    def equals(self, other):\n",
    "        return self == other\n",
    "\n",
    "    def check_validity(self):\n",
    "        if not all(len(row) == len(self.data[0]) for row in self.data[1:]):\n",
    "            raise ValueError(\"Invalid matrix dimensions\")\n",
    "\n",
    "\n",
    "def constant(n, m, c):\n",
    "    return Matrix(*[[c] * m for _ in range(n)])\n",
    "\n",
    "\n",
    "def zeros(n, m):\n",
    "    return constant(n, m, 0)\n",
    "\n",
    "\n",
    "def ones(n, m):\n",
    "    return constant(n, m, 1)\n",
    "\n",
    "\n",
    "def eye(n):\n",
    "    return Matrix(*[[1]])"
   ]
  },
  {
   "cell_type": "code",
   "execution_count": 45,
   "metadata": {},
   "outputs": [],
   "source": [
    "class create_matrix:\n",
    "    # Previous implementation of the Matrix class here...\n",
    "\n",
    "    def __add__(self, other):\n",
    "        if isinstance(other, (int, float)):\n",
    "            return self.scalarmul(1)  # Returns a copy of self\n",
    "        elif isinstance(other, Matrix):\n",
    "            return self.add(other)\n",
    "        else:\n",
    "            raise TypeError(\"Unsupported operand type(s) for +\")\n",
    "\n",
    "    def __radd__(self, other):\n",
    "        return self.__add__(other)\n",
    "\n",
    "    def __sub__(self, other):\n",
    "        if isinstance(other, (int, float)):\n",
    "            return self.scalarmul(1)  # Returns a copy of self\n",
    "        elif isinstance(other, Matrix):\n",
    "            return self.sub(other)\n",
    "        else:\n",
    "            raise TypeError(\"Unsupported operand type(s) for -\")\n",
    "\n",
    "    def __rsub__(self, other):\n",
    "        if isinstance(other, (int, float)):\n",
    "            return self.scalarmul(-1)  # Returns a negated copy of self\n",
    "        elif isinstance(other, Matrix):\n",
    "            return other.scalarmul(-1).add(self)\n",
    "        else:\n",
    "            raise TypeError(\"Unsupported operand type(s) for -\")\n",
    "\n",
    "    def __mul__(self, other):\n",
    "        if isinstance(other, (int, float)):\n",
    "            return self.scalarmul(other)\n",
    "        elif isinstance(other, Matrix):\n",
    "            return self.mat_mult(other)\n",
    "        else:\n",
    "            raise TypeError(\"Unsupported operand type(s) for *\")\n",
    "\n",
    "    def __rmul__(self, other):\n",
    "        return self.__mul__(other)\n",
    "\n",
    "    def __eq__(self, other):\n",
    "        return self.equals(other)"
   ]
  },
  {
   "cell_type": "code",
   "execution_count": 46,
   "metadata": {},
   "outputs": [
    {
     "name": "stdout",
     "output_type": "stream",
     "text": [
      "[[1, 2], [2, 4]]\n"
     ]
    }
   ],
   "source": [
    "\n",
    "\n",
    "A_data=[[1,2],[2,4]]\n",
    "B_data=[[4,6],[4,3]]\n",
    "C_data=[[8,2],[3,7]]\n",
    "I_data=[[1,0],[0,1]]\n",
    "\n",
    "A=create_matrix\n",
    "A=A_data\n",
    "print(A)"
   ]
  },
  {
   "cell_type": "code",
   "execution_count": 47,
   "metadata": {},
   "outputs": [
    {
     "name": "stdout",
     "output_type": "stream",
     "text": [
      "[[4, 6], [4, 3]]\n"
     ]
    }
   ],
   "source": [
    "B=create_matrix\n",
    "B=B_data\n",
    "print(B)"
   ]
  },
  {
   "cell_type": "code",
   "execution_count": 49,
   "metadata": {},
   "outputs": [
    {
     "name": "stdout",
     "output_type": "stream",
     "text": [
      "[[8, 2], [3, 7]]\n"
     ]
    }
   ],
   "source": [
    "C=create_matrix\n",
    "C=C_data\n",
    "print(C)"
   ]
  },
  {
   "cell_type": "code",
   "execution_count": 51,
   "metadata": {},
   "outputs": [
    {
     "name": "stdout",
     "output_type": "stream",
     "text": [
      "[[1, 0], [0, 1]]\n"
     ]
    }
   ],
   "source": [
    "I=create_matrix\n",
    "I=I_data\n",
    "print(I)"
   ]
  },
  {
   "cell_type": "code",
   "execution_count": 52,
   "metadata": {},
   "outputs": [
    {
     "ename": "TypeError",
     "evalue": "can't multiply sequence by non-int of type 'list'",
     "output_type": "error",
     "traceback": [
      "\u001b[0;31m---------------------------------------------------------------------------\u001b[0m",
      "\u001b[0;31mTypeError\u001b[0m                                 Traceback (most recent call last)",
      "Cell \u001b[0;32mIn[52], line 1\u001b[0m\n\u001b[0;32m----> 1\u001b[0m left_hand\u001b[38;5;241m=\u001b[39m(\u001b[43mA\u001b[49m\u001b[38;5;241;43m*\u001b[39;49m\u001b[43mB\u001b[49m)\u001b[38;5;241m*\u001b[39mC\n\u001b[1;32m      2\u001b[0m right_hand\u001b[38;5;241m=\u001b[39mA\u001b[38;5;241m*\u001b[39m(B\u001b[38;5;241m*\u001b[39mC)\n\u001b[1;32m      5\u001b[0m \u001b[38;5;28mprint\u001b[39m(\u001b[38;5;124m\"\u001b[39m\u001b[38;5;124mleft-hand  (AB)C:\u001b[39m\u001b[38;5;130;01m\\n\u001b[39;00m\u001b[38;5;124m\"\u001b[39m, left_hand)\n",
      "\u001b[0;31mTypeError\u001b[0m: can't multiply sequence by non-int of type 'list'"
     ]
    }
   ],
   "source": [
    "left_hand=(A*B)*C\n",
    "right_hand=A*(B*C)\n",
    "\n",
    "\n",
    "print(\"left-hand  (AB)C:\\n\", left_hand)\n",
    "print(\"right-hand A(BC):\\n\", right_hand)\n",
    "\n",
    "# Check if they are equal\n",
    "print(\"Associativity of matrix multiplication:\", left_hand == right_hand)\n"
   ]
  },
  {
   "cell_type": "code",
   "execution_count": 53,
   "metadata": {},
   "outputs": [
    {
     "ename": "TypeError",
     "evalue": "can't multiply sequence by non-int of type 'list'",
     "output_type": "error",
     "traceback": [
      "\u001b[0;31m---------------------------------------------------------------------------\u001b[0m",
      "\u001b[0;31mTypeError\u001b[0m                                 Traceback (most recent call last)",
      "Cell \u001b[0;32mIn[53], line 1\u001b[0m\n\u001b[0;32m----> 1\u001b[0m left_hand\u001b[38;5;241m=\u001b[39m\u001b[43mA\u001b[49m\u001b[38;5;241;43m*\u001b[39;49m\u001b[43m(\u001b[49m\u001b[43mB\u001b[49m\u001b[38;5;241;43m+\u001b[39;49m\u001b[43mC\u001b[49m\u001b[43m)\u001b[49m\n\u001b[1;32m      2\u001b[0m right_hand\u001b[38;5;241m=\u001b[39mA\u001b[38;5;241m*\u001b[39mB \u001b[38;5;241m+\u001b[39m A\u001b[38;5;241m*\u001b[39mC\n\u001b[1;32m      3\u001b[0m \u001b[38;5;28mprint\u001b[39m(\u001b[38;5;124m\"\u001b[39m\u001b[38;5;124mleft_hand A(B+C)\u001b[39m\u001b[38;5;130;01m\\n\u001b[39;00m\u001b[38;5;124m\"\u001b[39m, left_hand)\n",
      "\u001b[0;31mTypeError\u001b[0m: can't multiply sequence by non-int of type 'list'"
     ]
    }
   ],
   "source": [
    "left_hand=A*(B+C)\n",
    "right_hand=A*B + A*C\n",
    "print(\"left_hand A(B+C)\\n\", left_hand)\n",
    "print(\"right_hand  AB+AC\\n\", right_hand)\n",
    "\n",
    "#check if equal\n",
    "print(\"Matrix multiplication and addition:\", left_hand==right_hand)"
   ]
  },
  {
   "cell_type": "code",
   "execution_count": null,
   "metadata": {},
   "outputs": [],
   "source": []
  }
 ],
 "metadata": {
  "kernelspec": {
   "display_name": "Python 3 (ipykernel)",
   "language": "python",
   "name": "python3"
  },
  "language_info": {
   "codemirror_mode": {
    "name": "ipython",
    "version": 3
   },
   "file_extension": ".py",
   "mimetype": "text/x-python",
   "name": "python",
   "nbconvert_exporter": "python",
   "pygments_lexer": "ipython3",
   "version": "3.10.12"
  }
 },
 "nbformat": 4,
 "nbformat_minor": 4
}
