{
 "cells": [
  {
   "cell_type": "markdown",
   "id": "722a9aba-ddcf-4570-8edd-ae81f28f4509",
   "metadata": {},
   "source": [
    "Computing Integral\n",
    "The integral should be (x_max - x_min)*(y_max - y_min) times the fraction of times that y < f(x)."
   ]
  },
  {
   "cell_type": "code",
   "execution_count": 1,
   "id": "60d01fed-6257-4529-a33a-738531645f2a",
   "metadata": {},
   "outputs": [
    {
     "name": "stdout",
     "output_type": "stream",
     "text": [
      "Approximate integral: 2.6504\n"
     ]
    }
   ],
   "source": [
    "import numpy as np\n",
    "\n",
    "def integrate(func, x_min, x_max, y_min, y_max, n_points=1000):\n",
    "    # Generate random points within the specified range\n",
    "    x_points = np.random.uniform(x_min, x_max, n_points)\n",
    "    y_points = np.random.uniform(y_min, y_max, n_points)\n",
    "\n",
    "    # Count the number of points below the curve y = func(x)\n",
    "    points_below_curve = sum(y_points < func(x_points))\n",
    "\n",
    "    # Calculate the fraction of points below the curve\n",
    "    fraction_below_curve = points_below_curve / n_points\n",
    "\n",
    "    # Calculate the integral using the fraction of points below the curve\n",
    "    integral = (x_max - x_min) * (y_max - y_min) * fraction_below_curve\n",
    "\n",
    "    return integral\n",
    "\n",
    "# Test with a simple quadratic function\n",
    "def quadratic_function(x):\n",
    "    return x**2\n",
    "\n",
    "# Specify the range for integration\n",
    "x_min = 0\n",
    "x_max = 2\n",
    "y_min = 0\n",
    "y_max = 4\n",
    "\n",
    "# Calculate the integral of the quadratic function within the specified range\n",
    "result = integrate(quadratic_function, x_min, x_max, y_min, y_max, n_points=10000)\n",
    "\n",
    "# Display the result\n",
    "print(\"Approximate integral:\", result)"
   ]
  },
  {
   "cell_type": "code",
   "execution_count": null,
   "id": "ac9451d3-d4f7-48d0-a8dd-265afd105e34",
   "metadata": {},
   "outputs": [],
   "source": []
  }
 ],
 "metadata": {
  "kernelspec": {
   "display_name": "Python 3 (ipykernel)",
   "language": "python",
   "name": "python3"
  },
  "language_info": {
   "codemirror_mode": {
    "name": "ipython",
    "version": 3
   },
   "file_extension": ".py",
   "mimetype": "text/x-python",
   "name": "python",
   "nbconvert_exporter": "python",
   "pygments_lexer": "ipython3",
   "version": "3.10.12"
  }
 },
 "nbformat": 4,
 "nbformat_minor": 5
}
